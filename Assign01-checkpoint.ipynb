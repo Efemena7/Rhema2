{
 "cells": [
  {
   "cell_type": "code",
   "execution_count": 7,
   "id": "da22e998",
   "metadata": {},
   "outputs": [],
   "source": [
    "import math as mth"
   ]
  },
  {
   "cell_type": "code",
   "execution_count": null,
   "id": "7d40bd7a",
   "metadata": {},
   "outputs": [],
   "source": [
    "# Question 81"
   ]
  },
  {
   "cell_type": "code",
   "execution_count": 8,
   "id": "e688ecb2",
   "metadata": {},
   "outputs": [],
   "source": [
    "def hypotenuse(x,y):\n",
    "    z=mth.sqrt(x**2+y**2)\n",
    "    return z"
   ]
  },
  {
   "cell_type": "code",
   "execution_count": 10,
   "id": "c498506c",
   "metadata": {},
   "outputs": [
    {
     "name": "stdout",
     "output_type": "stream",
     "text": [
      "Length of Adjacent side: 9.9\n",
      "Length of Opposite side: 5.7\n",
      "The length of the hypotenuse of the triangle is 11.42cm\n"
     ]
    }
   ],
   "source": [
    "x=float(input(\"Length of Adjacent side: \"))\n",
    "y=float(input(\"Length of Opposite side: \"))\n",
    "z=round(hypotenuse(x,y),2)\n",
    "print(f\"The length of the hypotenuse of the triangle is {z}cm\")"
   ]
  },
  {
   "cell_type": "markdown",
   "id": "73ec8f6b",
   "metadata": {},
   "source": [
    "# Question 82"
   ]
  },
  {
   "cell_type": "code",
   "execution_count": 19,
   "id": "ad189b77",
   "metadata": {},
   "outputs": [],
   "source": [
    "def fare(v):\n",
    "    BASE_FARE=4.00\n",
    "    x=v*1000\n",
    "    y=x//140\n",
    "    z=round((y*0.25+BASE_FARE),2)\n",
    "    return z\n",
    "    "
   ]
  },
  {
   "cell_type": "code",
   "execution_count": 28,
   "id": "5eb2a0fe",
   "metadata": {},
   "outputs": [
    {
     "name": "stdout",
     "output_type": "stream",
     "text": [
      "Enter distance traveled in Kilometers: 12\n",
      "Total fare: $25.25\n"
     ]
    }
   ],
   "source": [
    "dist=float(input(\"Enter distance traveled in Kilometers: \"))\n",
    "total_fare=fare(dist)\n",
    "print(f\"Total fare: ${total_fare}\")"
   ]
  },
  {
   "cell_type": "markdown",
   "id": "77ceabcc",
   "metadata": {},
   "source": [
    "# Question 83"
   ]
  },
  {
   "cell_type": "code",
   "execution_count": 26,
   "id": "f49e8a96",
   "metadata": {},
   "outputs": [],
   "source": [
    "def shipping(x):\n",
    "    y=x-1\n",
    "    z=10.95+x*2.95\n",
    "    return z"
   ]
  },
  {
   "cell_type": "code",
   "execution_count": 27,
   "id": "3e3c03f8",
   "metadata": {},
   "outputs": [
    {
     "name": "stdout",
     "output_type": "stream",
     "text": [
      "Enter Number of Items: 65\n",
      "The Shipping charge: $202.7\n"
     ]
    }
   ],
   "source": [
    "items=int(input(\"Enter Number of Items: \"))\n",
    "shipping_charge=round(shipping(items),2)\n",
    "print(f\"The Shipping charge: ${shipping_charge}\")"
   ]
  },
  {
   "cell_type": "code",
   "execution_count": null,
   "id": "ef1ef419",
   "metadata": {},
   "outputs": [],
   "source": []
  },
  {
   "cell_type": "code",
   "execution_count": null,
   "id": "8ba6bcba",
   "metadata": {},
   "outputs": [],
   "source": []
  }
 ],
 "metadata": {
  "kernelspec": {
   "display_name": "Python 3 (ipykernel)",
   "language": "python",
   "name": "python3"
  },
  "language_info": {
   "codemirror_mode": {
    "name": "ipython",
    "version": 3
   },
   "file_extension": ".py",
   "mimetype": "text/x-python",
   "name": "python",
   "nbconvert_exporter": "python",
   "pygments_lexer": "ipython3",
   "version": "3.9.12"
  }
 },
 "nbformat": 4,
 "nbformat_minor": 5
}
